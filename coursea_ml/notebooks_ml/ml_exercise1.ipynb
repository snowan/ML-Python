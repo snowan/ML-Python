# Exercise 1 - Linear Regression

# Linear Regression with one variable

import numpy as np
import pandas as pd
import matplotlib.pyplot as plt
%matplotlib inline

import os
path = os.getcwd()